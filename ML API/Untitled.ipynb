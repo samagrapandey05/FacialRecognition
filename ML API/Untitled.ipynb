{
 "cells": [
  {
   "cell_type": "code",
   "execution_count": 6,
   "id": "759df36a-6eea-49b0-82a4-ffca55506bcf",
   "metadata": {},
   "outputs": [],
   "source": [
    "from flask import Flask\n",
    "import datetime\n",
    " \n",
    "x = datetime.datetime.now()\n",
    " \n",
    "# Initializing flask app\n",
    "app = Flask(__name__)\n",
    " \n",
    " \n",
    "# Route for seeing a data\n",
    "@app.route('/data')\n",
    "def get_time():\n",
    " \n",
    "    # Returning an api for showing in  reactjs\n",
    "    return {\n",
    "        'Name':\"geek\", \n",
    "        \"Age\":\"22\",\n",
    "        \"Date\":x, \n",
    "        \"programming\":\"python\"\n",
    "        }\n",
    " \n",
    "     \n",
    "# Running app\n",
    "if __name__ == '__main__':\n",
    "    from waitress import serve\n",
    "    serve(app, host=\"0.0.0.0\", port=8080)"
   ]
  },
  {
   "cell_type": "code",
   "execution_count": null,
   "id": "5b32fdf1-6ca9-45a2-9c6c-a2ad59698cae",
   "metadata": {},
   "outputs": [],
   "source": []
  }
 ],
 "metadata": {
  "kernelspec": {
   "display_name": "Python 3 (ipykernel)",
   "language": "python",
   "name": "python3"
  },
  "language_info": {
   "codemirror_mode": {
    "name": "ipython",
    "version": 3
   },
   "file_extension": ".py",
   "mimetype": "text/x-python",
   "name": "python",
   "nbconvert_exporter": "python",
   "pygments_lexer": "ipython3",
   "version": "3.12.2"
  }
 },
 "nbformat": 4,
 "nbformat_minor": 5
}
